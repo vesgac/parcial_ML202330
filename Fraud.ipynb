{
 "cells": [
  {
   "cell_type": "code",
   "execution_count": 1,
   "metadata": {},
   "outputs": [],
   "source": [
    "import pandas as pd"
   ]
  },
  {
   "cell_type": "markdown",
   "metadata": {},
   "source": [
    "### Primer punto EDA "
   ]
  },
  {
   "cell_type": "code",
   "execution_count": 13,
   "metadata": {},
   "outputs": [],
   "source": [
    "train_identity = pd.read_csv(\"C:/Users/Carlos Vesga/OneDrive - Universidad del Norte/Escritorio/Machine Learning maestria/Fraud Detection/drive-download-20230930T132613Z-001/train_identity.csv\")\n",
    "train_transaction = pd.read_csv(\"C:/Users/Carlos Vesga/OneDrive - Universidad del Norte/Escritorio/Machine Learning maestria/Fraud Detection/drive-download-20230930T132613Z-001/train_transaction.csv\")\n",
    "data_train = pd.merge(train_transaction, train_identity, on='TransactionID', how='left')"
   ]
  },
  {
   "cell_type": "code",
   "execution_count": 19,
   "metadata": {},
   "outputs": [
    {
     "name": "stdout",
     "output_type": "stream",
     "text": [
      "<class 'pandas.core.frame.DataFrame'>\n",
      "RangeIndex: 590540 entries, 0 to 590539\n",
      "Columns: 434 entries, TransactionID to DeviceInfo\n",
      "dtypes: float64(399), int64(4), object(31)\n",
      "memory usage: 1.9+ GB\n"
     ]
    }
   ],
   "source": [
    "data_train.shape\n",
    "data_train.info()"
   ]
  },
  {
   "cell_type": "code",
   "execution_count": 17,
   "metadata": {},
   "outputs": [
    {
     "name": "stdout",
     "output_type": "stream",
     "text": [
      "# NaN values: 115523073\n"
     ]
    }
   ],
   "source": [
    "print(\"# NaN values:\", data_train.isna().sum().sum())"
   ]
  },
  {
   "cell_type": "code",
   "execution_count": 20,
   "metadata": {},
   "outputs": [
    {
     "data": {
      "text/html": [
       "<div>\n",
       "<style scoped>\n",
       "    .dataframe tbody tr th:only-of-type {\n",
       "        vertical-align: middle;\n",
       "    }\n",
       "\n",
       "    .dataframe tbody tr th {\n",
       "        vertical-align: top;\n",
       "    }\n",
       "\n",
       "    .dataframe thead th {\n",
       "        text-align: right;\n",
       "    }\n",
       "</style>\n",
       "<table border=\"1\" class=\"dataframe\">\n",
       "  <thead>\n",
       "    <tr style=\"text-align: right;\">\n",
       "      <th></th>\n",
       "      <th>Train NA</th>\n",
       "    </tr>\n",
       "  </thead>\n",
       "  <tbody>\n",
       "    <tr>\n",
       "      <th>TransactionID</th>\n",
       "      <td>0</td>\n",
       "    </tr>\n",
       "    <tr>\n",
       "      <th>isFraud</th>\n",
       "      <td>0</td>\n",
       "    </tr>\n",
       "    <tr>\n",
       "      <th>TransactionDT</th>\n",
       "      <td>0</td>\n",
       "    </tr>\n",
       "    <tr>\n",
       "      <th>TransactionAmt</th>\n",
       "      <td>0</td>\n",
       "    </tr>\n",
       "    <tr>\n",
       "      <th>ProductCD</th>\n",
       "      <td>0</td>\n",
       "    </tr>\n",
       "    <tr>\n",
       "      <th>...</th>\n",
       "      <td>...</td>\n",
       "    </tr>\n",
       "    <tr>\n",
       "      <th>id_36</th>\n",
       "      <td>449555</td>\n",
       "    </tr>\n",
       "    <tr>\n",
       "      <th>id_37</th>\n",
       "      <td>449555</td>\n",
       "    </tr>\n",
       "    <tr>\n",
       "      <th>id_38</th>\n",
       "      <td>449555</td>\n",
       "    </tr>\n",
       "    <tr>\n",
       "      <th>DeviceType</th>\n",
       "      <td>449730</td>\n",
       "    </tr>\n",
       "    <tr>\n",
       "      <th>DeviceInfo</th>\n",
       "      <td>471874</td>\n",
       "    </tr>\n",
       "  </tbody>\n",
       "</table>\n",
       "<p>434 rows × 1 columns</p>\n",
       "</div>"
      ],
      "text/plain": [
       "                Train NA\n",
       "TransactionID          0\n",
       "isFraud                0\n",
       "TransactionDT          0\n",
       "TransactionAmt         0\n",
       "ProductCD              0\n",
       "...                  ...\n",
       "id_36             449555\n",
       "id_37             449555\n",
       "id_38             449555\n",
       "DeviceType        449730\n",
       "DeviceInfo        471874\n",
       "\n",
       "[434 rows x 1 columns]"
      ]
     },
     "execution_count": 20,
     "metadata": {},
     "output_type": "execute_result"
    }
   ],
   "source": [
    "train_NA = data_train.isna().sum()\n",
    "pd.concat([train_NA], axis=1, sort = False, keys = ['Train NA'])"
   ]
  },
  {
   "cell_type": "markdown",
   "metadata": {},
   "source": [
    "### Imputacion de datos faltantes usando la mediana\n",
    "\n",
    "Observamos que existen una gran candidad de datos faltantes, los cuales dificultan realizar un EDA apropiado. por lo cual vamos a usar tecnicas de imputacion para rellenar los datos faltantes."
   ]
  },
  {
   "cell_type": "code",
   "execution_count": null,
   "metadata": {},
   "outputs": [],
   "source": []
  },
  {
   "cell_type": "markdown",
   "metadata": {},
   "source": [
    "### Características Fraud Detection\n",
    "\n",
    "TransactionDT: Intervalo de tiempo a partir de una fecha y hora de referencia\n",
    "\n",
    "TransactionAMT: Importe del pago de la transacción en USD\n",
    "\n",
    "ProductCD: Código de producto, el producto de cada transacción\n",
    "\n",
    "card1 - card6 : Información de la tarjeta de pago, como tipo de tarjeta, categoría de tarjeta, banco\n",
    "emisor, país, etc.\n",
    "\n",
    "addr : Dirección\n",
    "\n",
    "dist: Distancia\n",
    "\n",
    "P_ and (R_) emaildomain: Dominio de correo electrónico del comprador y del destinatario\n",
    "\n",
    "C1-C14 : Recuento, cuántas direcciones se encuentran asociadas a la tarjeta de pago, etc. El significado\n",
    "real está codificado.\n",
    "\n",
    "D1-D15 : Intervalo de tiempo, como los días transcurridos entre la transacción anterior, etc.\n",
    "\n",
    "M1-M9 : Coinciden, como los nombres en la tarjeta y la dirección, etc.\n",
    "\n",
    "Vxxx : Vesta ofrece una gran variedad de funciones, como la clasificación, el recuento y otras relaciones\n",
    "entre entidades.\n",
    "\n",
    "DeviceType: Codificada. Información de identidad o conexión de red (IP, ISP, Proxy, etc) o firma digital\n",
    "\n",
    "DeviceInfo: Codificada. Información de identidad o conexión de red (IP, ISP, Proxy, etc) o firma digital\n",
    "\n",
    "id_12 - id_38 : Codificada. Información de identidad o conexión de red (IP, ISP, Proxy, etc) o firma\n",
    "digital"
   ]
  }
 ],
 "metadata": {
  "kernelspec": {
   "display_name": "ml_venv",
   "language": "python",
   "name": "python3"
  },
  "language_info": {
   "codemirror_mode": {
    "name": "ipython",
    "version": 3
   },
   "file_extension": ".py",
   "mimetype": "text/x-python",
   "name": "python",
   "nbconvert_exporter": "python",
   "pygments_lexer": "ipython3",
   "version": "3.9.17"
  },
  "orig_nbformat": 4
 },
 "nbformat": 4,
 "nbformat_minor": 2
}
